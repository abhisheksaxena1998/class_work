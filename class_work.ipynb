{
  "nbformat": 4,
  "nbformat_minor": 0,
  "metadata": {
    "colab": {
      "name": "mam.ipynb",
      "provenance": [],
      "collapsed_sections": [],
      "include_colab_link": true
    },
    "kernelspec": {
      "name": "python3",
      "display_name": "Python 3"
    }
  },
  "cells": [
    {
      "cell_type": "markdown",
      "metadata": {
        "id": "view-in-github",
        "colab_type": "text"
      },
      "source": [
        "<a href=\"https://colab.research.google.com/github/abhisheksaxena1998/class_work/blob/master/class_work.ipynb\" target=\"_parent\"><img src=\"https://colab.research.google.com/assets/colab-badge.svg\" alt=\"Open In Colab\"/></a>"
      ]
    },
    {
      "cell_type": "code",
      "metadata": {
        "id": "Hjgpj6C7R6Bv",
        "colab_type": "code",
        "colab": {}
      },
      "source": [
        "from sklearn.pipeline import Pipeline\n",
        "from sklearn.feature_extraction.text import TfidfTransformer\n",
        "from sklearn.metrics import classification_report\n",
        "from sklearn.feature_extraction.text import CountVectorizer, TfidfVectorizer\n",
        "from sklearn.metrics import accuracy_score, confusion_matrix\n",
        "import pandas as pd \n",
        "from sklearn.model_selection import train_test_split\n",
        "import numpy as np\n",
        "from sklearn.svm import LinearSVC\n",
        "from sklearn.linear_model import LogisticRegression\n",
        "from sklearn.neural_network import MLPClassifier\n",
        "import pickle"
      ],
      "execution_count": 0,
      "outputs": []
    },
    {
      "cell_type": "code",
      "metadata": {
        "id": "idRxbIKdSNc2",
        "colab_type": "code",
        "colab": {
          "base_uri": "https://localhost:8080/",
          "height": 402
        },
        "outputId": "45253927-b7ee-4fdb-ef80-19c276445c04"
      },
      "source": [
        "import numpy as np\n",
        "import pandas as pd\n",
        "\n",
        "df=pd.read_excel(\"test1.xlsx\",encoding=\"latin1\")\n",
        "df"
      ],
      "execution_count": 10,
      "outputs": [
        {
          "output_type": "execute_result",
          "data": {
            "text/html": [
              "<div>\n",
              "<style scoped>\n",
              "    .dataframe tbody tr th:only-of-type {\n",
              "        vertical-align: middle;\n",
              "    }\n",
              "\n",
              "    .dataframe tbody tr th {\n",
              "        vertical-align: top;\n",
              "    }\n",
              "\n",
              "    .dataframe thead th {\n",
              "        text-align: right;\n",
              "    }\n",
              "</style>\n",
              "<table border=\"1\" class=\"dataframe\">\n",
              "  <thead>\n",
              "    <tr style=\"text-align: right;\">\n",
              "      <th></th>\n",
              "      <th>_id</th>\n",
              "      <th>id</th>\n",
              "      <th>text</th>\n",
              "      <th>Polarized</th>\n",
              "    </tr>\n",
              "  </thead>\n",
              "  <tbody>\n",
              "    <tr>\n",
              "      <th>0</th>\n",
              "      <td>ObjectId(\"5d074936790d7d0f8305901b\")</td>\n",
              "      <td>1.120600e+18</td>\n",
              "      <td>My heartfelt gratitude to the @Akali_Dal_ for ...</td>\n",
              "      <td>1</td>\n",
              "    </tr>\n",
              "    <tr>\n",
              "      <th>1</th>\n",
              "      <td>ObjectId(\"5d074936790d7d0f83059028\")</td>\n",
              "      <td>1.120630e+18</td>\n",
              "      <td>Mat Bhool..\\n#loksabha elections\\n#baramatilok...</td>\n",
              "      <td>0</td>\n",
              "    </tr>\n",
              "    <tr>\n",
              "      <th>2</th>\n",
              "      <td>ObjectId(\"5d074936790d7d0f8305902a\")</td>\n",
              "      <td>1.120290e+18</td>\n",
              "      <td>#AAP #LokSabha candidate from North East #Delh...</td>\n",
              "      <td>0</td>\n",
              "    </tr>\n",
              "    <tr>\n",
              "      <th>3</th>\n",
              "      <td>ObjectId(\"5d074936790d7d0f8305902e\")</td>\n",
              "      <td>1.120610e+18</td>\n",
              "      <td>350   EVM  .....       \\n\\n               \\n\\n...</td>\n",
              "      <td>1</td>\n",
              "    </tr>\n",
              "    <tr>\n",
              "      <th>4</th>\n",
              "      <td>ObjectId(\"5d074936790d7d0f83059030\")</td>\n",
              "      <td>1.120620e+18</td>\n",
              "      <td>Hahahaha Congress leaders dont trust even thei...</td>\n",
              "      <td>1</td>\n",
              "    </tr>\n",
              "    <tr>\n",
              "      <th>...</th>\n",
              "      <td>...</td>\n",
              "      <td>...</td>\n",
              "      <td>...</td>\n",
              "      <td>...</td>\n",
              "    </tr>\n",
              "    <tr>\n",
              "      <th>3536</th>\n",
              "      <td>5d11e96109b4dfa968665536</td>\n",
              "      <td>1.120000e+18</td>\n",
              "      <td>raga   the story of 3 cs.  citizenship  confus...</td>\n",
              "      <td>1</td>\n",
              "    </tr>\n",
              "    <tr>\n",
              "      <th>3537</th>\n",
              "      <td>5d11e96c09b4dfa96866cb20</td>\n",
              "      <td>1.120000e+18</td>\n",
              "      <td>@ramcharanbohra @bjp4rajasthan @bjp4india @nar...</td>\n",
              "      <td>0</td>\n",
              "    </tr>\n",
              "    <tr>\n",
              "      <th>3538</th>\n",
              "      <td>5d11e97109b4dfa968671ab1</td>\n",
              "      <td>1.120000e+18</td>\n",
              "      <td>#armysemaafimaangomodi https://t.co/rqlezd61eq</td>\n",
              "      <td>0</td>\n",
              "    </tr>\n",
              "    <tr>\n",
              "      <th>3539</th>\n",
              "      <td>5d11e97c09b4dfa96867a7dd</td>\n",
              "      <td>1.120000e+18</td>\n",
              "      <td>see @akshaykumar problem is not with ur citize...</td>\n",
              "      <td>1</td>\n",
              "    </tr>\n",
              "    <tr>\n",
              "      <th>3540</th>\n",
              "      <td>5d11e97d09b4dfa96867a7e9</td>\n",
              "      <td>1.120000e+18</td>\n",
              "      <td>-                 @narendramo...</td>\n",
              "      <td>0</td>\n",
              "    </tr>\n",
              "  </tbody>\n",
              "</table>\n",
              "<p>3541 rows × 4 columns</p>\n",
              "</div>"
            ],
            "text/plain": [
              "                                       _id  ...  Polarized\n",
              "0     ObjectId(\"5d074936790d7d0f8305901b\")  ...          1\n",
              "1     ObjectId(\"5d074936790d7d0f83059028\")  ...          0\n",
              "2     ObjectId(\"5d074936790d7d0f8305902a\")  ...          0\n",
              "3     ObjectId(\"5d074936790d7d0f8305902e\")  ...          1\n",
              "4     ObjectId(\"5d074936790d7d0f83059030\")  ...          1\n",
              "...                                    ...  ...        ...\n",
              "3536              5d11e96109b4dfa968665536  ...          1\n",
              "3537              5d11e96c09b4dfa96866cb20  ...          0\n",
              "3538              5d11e97109b4dfa968671ab1  ...          0\n",
              "3539              5d11e97c09b4dfa96867a7dd  ...          1\n",
              "3540              5d11e97d09b4dfa96867a7e9  ...          0\n",
              "\n",
              "[3541 rows x 4 columns]"
            ]
          },
          "metadata": {
            "tags": []
          },
          "execution_count": 10
        }
      ]
    },
    {
      "cell_type": "code",
      "metadata": {
        "id": "UXQOVzXoSZZN",
        "colab_type": "code",
        "colab": {}
      },
      "source": [
        "V=df.text.values.astype('U')\n",
        "cat=df.Polarized"
      ],
      "execution_count": 0,
      "outputs": []
    },
    {
      "cell_type": "code",
      "metadata": {
        "id": "0KLpaj0DUQW8",
        "colab_type": "code",
        "colab": {
          "base_uri": "https://localhost:8080/",
          "height": 34
        },
        "outputId": "93de2277-5182-45c3-ba77-d6906efbeba1"
      },
      "source": [
        "from google.colab import drive\n",
        "drive.mount('/content/drive')"
      ],
      "execution_count": 15,
      "outputs": [
        {
          "output_type": "stream",
          "text": [
            "Drive already mounted at /content/drive; to attempt to forcibly remount, call drive.mount(\"/content/drive\", force_remount=True).\n"
          ],
          "name": "stdout"
        }
      ]
    },
    {
      "cell_type": "code",
      "metadata": {
        "id": "oOHGddWKSdJ6",
        "colab_type": "code",
        "colab": {}
      },
      "source": [
        "def train_test(X,y):\n",
        " \n",
        "  X_train, X_test, y_train, y_test = train_test_split(X, y, test_size=0.3, random_state = 42)\n",
        "\n",
        "  print(\"Results of Logistic Regression\")\n",
        "  from sklearn.linear_model import LogisticRegression\n",
        "\n",
        "  logreg = Pipeline([('vect', CountVectorizer()),\n",
        "                  ('tfidf', TfidfTransformer()),\n",
        "                  ('clf', LogisticRegression(n_jobs=1, C=1e5)),\n",
        "                 ])\n",
        "  logreg.fit(X_train, y_train)\n",
        "\n",
        "  y_pred = logreg.predict(X_test)\n",
        "  \n",
        "  print('accuracy %s' % accuracy_score(y_pred, y_test))\n",
        "  "
      ],
      "execution_count": 0,
      "outputs": []
    },
    {
      "cell_type": "code",
      "metadata": {
        "id": "c2CW5s2eShNU",
        "colab_type": "code",
        "colab": {
          "base_uri": "https://localhost:8080/",
          "height": 104
        },
        "outputId": "2c46fc29-79b8-438a-8148-74eb03c57c19"
      },
      "source": [
        "train_test(V,cat)"
      ],
      "execution_count": 17,
      "outputs": [
        {
          "output_type": "stream",
          "text": [
            "Results of Logistic Regression\n",
            "accuracy 0.5907808090310442\n"
          ],
          "name": "stdout"
        },
        {
          "output_type": "stream",
          "text": [
            "/usr/local/lib/python3.6/dist-packages/sklearn/linear_model/logistic.py:432: FutureWarning: Default solver will be changed to 'lbfgs' in 0.22. Specify a solver to silence this warning.\n",
            "  FutureWarning)\n"
          ],
          "name": "stderr"
        }
      ]
    },
    {
      "cell_type": "code",
      "metadata": {
        "id": "wlIAOf1RU-eK",
        "colab_type": "code",
        "colab": {}
      },
      "source": [
        ""
      ],
      "execution_count": 0,
      "outputs": []
    }
  ]
}